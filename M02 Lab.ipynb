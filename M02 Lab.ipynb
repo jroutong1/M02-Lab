{
 "cells": [
  {
   "cell_type": "markdown",
   "id": "dc557634",
   "metadata": {},
   "source": [
    "Jack Routsong\n",
    "M02 Lab.ipynb\n",
    "Tests GPA values for qualification for Dean's List or Honor Roll"
   ]
  },
  {
   "cell_type": "code",
   "execution_count": 3,
   "id": "af6b70a3",
   "metadata": {},
   "outputs": [
    {
     "name": "stdout",
     "output_type": "stream",
     "text": [
      "Enter last name: Zim\n",
      "Enter first name: Gir\n",
      "Enter GPA: 6.5\n",
      "Gir Zim has made the Dean's List.\n",
      "Gir Zim has made the Honor Roll.\n",
      "Enter last name: Ronald\n",
      "Enter first name: Grump\n",
      "Enter GPA: 2.4\n",
      "Enter last name: Johnson\n",
      "Enter first name: Jimmy\n",
      "Enter GPA: 3.26\n",
      "Jimmy Johnson has made the Honor Roll.\n",
      "Enter last name: Palladin\n",
      "Enter first name: Dan\n",
      "Enter GPA: 4.3\n",
      "Dan Palladin has made the Dean's List.\n",
      "Dan Palladin has made the Honor Roll.\n",
      "Enter last name: Dvorak\n",
      "Enter first name: Berg\n",
      "Enter GPA: 9.2\n",
      "Berg Dvorak has made the Dean's List.\n",
      "Berg Dvorak has made the Honor Roll.\n",
      "Enter last name: ZZZ\n"
     ]
    }
   ],
   "source": [
    "while True:\n",
    "    last_name = input(\"Enter last name: \")\n",
    "    if last_name == \"ZZZ\":\n",
    "        break\n",
    "    first_name = input(\"Enter first name: \")\n",
    "    gpa = input(\"Enter GPA: \")\n",
    "    gpa = float(gpa)\n",
    "    if(gpa >= 3.5):\n",
    "        print(first_name + \" \" + last_name + \" has made the Dean's List.\")\n",
    "    if(gpa >= 3.25):\n",
    "        print(first_name + \" \" + last_name + \" has made the Honor Roll.\")"
   ]
  }
 ],
 "metadata": {
  "kernelspec": {
   "display_name": "Python 3 (ipykernel)",
   "language": "python",
   "name": "python3"
  },
  "language_info": {
   "codemirror_mode": {
    "name": "ipython",
    "version": 3
   },
   "file_extension": ".py",
   "mimetype": "text/x-python",
   "name": "python",
   "nbconvert_exporter": "python",
   "pygments_lexer": "ipython3",
   "version": "3.11.5"
  }
 },
 "nbformat": 4,
 "nbformat_minor": 5
}
